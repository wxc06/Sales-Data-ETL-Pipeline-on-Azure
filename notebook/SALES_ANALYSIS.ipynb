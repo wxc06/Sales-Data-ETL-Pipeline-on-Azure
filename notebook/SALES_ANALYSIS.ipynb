{
 "cells": [
  {
   "cell_type": "code",
   "execution_count": 0,
   "metadata": {
    "application/vnd.databricks.v1+cell": {
     "cellMetadata": {
      "byteLimit": 2048000,
      "rowLimit": 10000
     },
     "inputWidgets": {},
     "nuid": "0cb855c9-b6bf-4479-a38d-ea7680a9bae8",
     "showTitle": false,
     "title": ""
    }
   },
   "outputs": [
    {
     "output_type": "display_data",
     "data": {
      "text/html": [
       "<style scoped>\n",
       "  .ansiout {\n",
       "    display: block;\n",
       "    unicode-bidi: embed;\n",
       "    white-space: pre-wrap;\n",
       "    word-wrap: break-word;\n",
       "    word-break: break-all;\n",
       "    font-family: \"Menlo\", \"Monaco\", \"Consolas\", \"Ubuntu Mono\", \"Source Code Pro\", monospace;\n",
       "    font-size: 13px;\n",
       "    color: #555;\n",
       "    margin-left: 4px;\n",
       "    line-height: 19px;\n",
       "  }\n",
       "</style>\n",
       "<div class=\"ansiout\"></div>"
      ]
     },
     "metadata": {
      "application/vnd.databricks.v1+output": {
       "addedWidgets": {},
       "arguments": {},
       "data": "<div class=\"ansiout\"></div>",
       "datasetInfos": [],
       "metadata": {},
       "removedWidgets": [],
       "type": "html"
      }
     },
     "output_type": "display_data"
    }
   ],
   "source": [
    "import pandas as pd\n",
    "import numpy as np\n",
    "from pyspark.sql.types import *\n",
    "import pyspark.sql.functions as F\n",
    "# Connect spark to ADLS\n",
    "spark.conf.set(\n",
    "    \"fs.azure.account.key.salesadls.dfs.core.windows.net\",\"646mPPXzgcDIFSKTnvCLY+7RBqT6Zyxxm/TDrmuakx/xf1zsHdT2BX5KjIn/SJhRgf+eUqeuEBrM+ASt8nC3uQ==\")"
   ]
  },
  {
   "cell_type": "markdown",
   "metadata": {
    "application/vnd.databricks.v1+cell": {
     "cellMetadata": {},
     "inputWidgets": {},
     "nuid": "58161d4b-9e67-4e9d-b219-556be3decd0f",
     "showTitle": false,
     "title": ""
    }
   },
   "source": [
    "## Load sales data from ADLS"
   ]
  },
  {
   "cell_type": "code",
   "execution_count": 0,
   "metadata": {
    "application/vnd.databricks.v1+cell": {
     "cellMetadata": {
      "byteLimit": 2048000,
      "rowLimit": 10000
     },
     "inputWidgets": {},
     "nuid": "b2d5e711-1823-4aa0-b93d-4f0c14a8878c",
     "showTitle": false,
     "title": ""
    }
   },
   "outputs": [
    {
     "output_type": "display_data",
     "data": {
      "text/html": [
       "<style scoped>\n",
       "  .ansiout {\n",
       "    display: block;\n",
       "    unicode-bidi: embed;\n",
       "    white-space: pre-wrap;\n",
       "    word-wrap: break-word;\n",
       "    word-break: break-all;\n",
       "    font-family: \"Menlo\", \"Monaco\", \"Consolas\", \"Ubuntu Mono\", \"Source Code Pro\", monospace;\n",
       "    font-size: 13px;\n",
       "    color: #555;\n",
       "    margin-left: 4px;\n",
       "    line-height: 19px;\n",
       "  }\n",
       "</style>\n",
       "<div class=\"ansiout\"></div>"
      ]
     },
     "metadata": {
      "application/vnd.databricks.v1+output": {
       "addedWidgets": {},
       "arguments": {},
       "data": "<div class=\"ansiout\"></div>",
       "datasetInfos": [],
       "metadata": {},
       "removedWidgets": [],
       "type": "html"
      }
     },
     "output_type": "display_data"
    }
   ],
   "source": [
    "# define adls path\n",
    "#\n",
    "adls_endpoint = \"abfss://inputgen2@salesadls.dfs.core.windows.net/\"\n",
    "sales_file_path = \"Amazon Sale Report.csv\"\n",
    "\n",
    "full_sales_path = adls_endpoint + sales_file_path\n",
    "#\n",
    "price5_path = 'May-2022.csv'\n",
    "price3_path = 'P  L March 2021.csv'\n",
    "full_price5_path = adls_endpoint + price5_path\n",
    "full_price3_path = adls_endpoint + price3_path\n",
    "#\n",
    "sale_report_path = 'Sale Report.csv'\n",
    "full_sku_path = adls_endpoint + sale_report_path\n",
    "#\n",
    "expense_path = 'Expense IIGF.csv'\n",
    "full_expense_path = adls_endpoint + expense_path"
   ]
  },
  {
   "cell_type": "code",
   "execution_count": 0,
   "metadata": {
    "application/vnd.databricks.v1+cell": {
     "cellMetadata": {
      "byteLimit": 2048000,
      "rowLimit": 10000
     },
     "inputWidgets": {},
     "nuid": "75f36275-a6ca-46f3-a1fd-a040f3b2a88f",
     "showTitle": false,
     "title": ""
    }
   },
   "outputs": [
    {
     "output_type": "display_data",
     "data": {
      "text/html": [
       "<style scoped>\n",
       "  .ansiout {\n",
       "    display: block;\n",
       "    unicode-bidi: embed;\n",
       "    white-space: pre-wrap;\n",
       "    word-wrap: break-word;\n",
       "    word-break: break-all;\n",
       "    font-family: \"Menlo\", \"Monaco\", \"Consolas\", \"Ubuntu Mono\", \"Source Code Pro\", monospace;\n",
       "    font-size: 13px;\n",
       "    color: #555;\n",
       "    margin-left: 4px;\n",
       "    line-height: 19px;\n",
       "  }\n",
       "</style>\n",
       "<div class=\"ansiout\"></div>"
      ]
     },
     "metadata": {
      "application/vnd.databricks.v1+output": {
       "addedWidgets": {},
       "arguments": {},
       "data": "<div class=\"ansiout\"></div>",
       "datasetInfos": [],
       "metadata": {},
       "removedWidgets": [],
       "type": "html"
      }
     },
     "output_type": "display_data"
    }
   ],
   "source": [
    "sales_data = spark.read.csv(path=full_sales_path,header=True, inferSchema= True)\n",
    "may_data = spark.read.csv(path=full_price5_path,header=True, inferSchema= True)\n",
    "mar_data = spark.read.csv(path=full_price3_path,header=True, inferSchema= True)\n",
    "sale_report_df = spark.read.csv(path=full_sku_path,header=True, inferSchema= True)\n",
    "expense_df = spark.read.csv(path=full_expense_path,header=True, inferSchema= True)"
   ]
  },
  {
   "cell_type": "markdown",
   "metadata": {
    "application/vnd.databricks.v1+cell": {
     "cellMetadata": {},
     "inputWidgets": {},
     "nuid": "c546ee41-692e-4a76-ae6b-d6104f13de9a",
     "showTitle": false,
     "title": ""
    }
   },
   "source": [
    "## Sales Trend Analysis"
   ]
  },
  {
   "cell_type": "code",
   "execution_count": 0,
   "metadata": {
    "application/vnd.databricks.v1+cell": {
     "cellMetadata": {
      "byteLimit": 2048000,
      "rowLimit": 10000
     },
     "inputWidgets": {},
     "nuid": "c5a56e72-67be-4e5f-9416-be67c905fa04",
     "showTitle": false,
     "title": ""
    }
   },
   "outputs": [
    {
     "output_type": "display_data",
     "data": {
      "text/html": [
       "<style scoped>\n",
       "  .ansiout {\n",
       "    display: block;\n",
       "    unicode-bidi: embed;\n",
       "    white-space: pre-wrap;\n",
       "    word-wrap: break-word;\n",
       "    word-break: break-all;\n",
       "    font-family: \"Menlo\", \"Monaco\", \"Consolas\", \"Ubuntu Mono\", \"Source Code Pro\", monospace;\n",
       "    font-size: 13px;\n",
       "    color: #555;\n",
       "    margin-left: 4px;\n",
       "    line-height: 19px;\n",
       "  }\n",
       "</style>\n",
       "<div class=\"ansiout\"></div>"
      ]
     },
     "metadata": {
      "application/vnd.databricks.v1+output": {
       "addedWidgets": {},
       "arguments": {},
       "data": "<div class=\"ansiout\"></div>",
       "datasetInfos": [],
       "metadata": {},
       "removedWidgets": [],
       "type": "html"
      }
     },
     "output_type": "display_data"
    }
   ],
   "source": [
    "from pyspark.sql import functions as F\n",
    "from pyspark.sql import SparkSession\n",
    "\n",
    "# drop columns\n",
    "sales_data_clean = sales_data.drop(*['index', 'Unnamed: 22'])\n",
    "\n",
    "# drop nan\n",
    "sales_data_clean = sales_data_clean.dropna(subset=['Date', 'Amount'])\n",
    "\n",
    "# datetime\n",
    "sales_data_clean = sales_data_clean.withColumn(\"Date\", F.to_date(F.unix_timestamp(\"Date\", \"MM-dd-yy\").cast(\"timestamp\")))"
   ]
  },
  {
   "cell_type": "code",
   "execution_count": 0,
   "metadata": {
    "application/vnd.databricks.v1+cell": {
     "cellMetadata": {
      "byteLimit": 2048000,
      "rowLimit": 10000
     },
     "inputWidgets": {},
     "nuid": "38c7989a-817f-420e-94de-8d667386aad0",
     "showTitle": false,
     "title": ""
    }
   },
   "outputs": [
    {
     "output_type": "display_data",
     "data": {
      "text/html": [
       "<style scoped>\n",
       "  .ansiout {\n",
       "    display: block;\n",
       "    unicode-bidi: embed;\n",
       "    white-space: pre-wrap;\n",
       "    word-wrap: break-word;\n",
       "    word-break: break-all;\n",
       "    font-family: \"Menlo\", \"Monaco\", \"Consolas\", \"Ubuntu Mono\", \"Source Code Pro\", monospace;\n",
       "    font-size: 13px;\n",
       "    color: #555;\n",
       "    margin-left: 4px;\n",
       "    line-height: 19px;\n",
       "  }\n",
       "</style>\n",
       "<div class=\"ansiout\"></div>"
      ]
     },
     "metadata": {
      "application/vnd.databricks.v1+output": {
       "addedWidgets": {},
       "arguments": {},
       "data": "<div class=\"ansiout\"></div>",
       "datasetInfos": [],
       "metadata": {},
       "removedWidgets": [],
       "type": "html"
      }
     },
     "output_type": "display_data"
    }
   ],
   "source": [
    "from pyspark.sql import functions as F\n",
    "\n",
    "# Sales Amount and Orders Amount by Month\n",
    "# Add 'Month' column\n",
    "sales_data_clean = sales_data_clean.withColumn(\"Year\", F.year(\"Date\").cast(\"string\"))\\\n",
    "                                   .withColumn(\"Month\", F.month(\"Date\").cast(\"string\"))\n",
    "\n",
    "# Assert Month digits\n",
    "sales_data_clean = sales_data_clean.withColumn(\"Month\", F.lpad(\"Month\", 2, \"0\"))\n",
    "\n",
    "# Sales Trend\n",
    "sales_trend = sales_data_clean.groupBy(\"Month\")\\\n",
    "    .agg(\n",
    "        F.sum(\"Amount\").alias(\"Total_Sales\"),\n",
    "        F.countDistinct(\"Order ID\").alias(\"Order_Count\")\n",
    "    )"
   ]
  },
  {
   "cell_type": "code",
   "execution_count": 0,
   "metadata": {
    "application/vnd.databricks.v1+cell": {
     "cellMetadata": {
      "byteLimit": 2048000,
      "rowLimit": 10000
     },
     "inputWidgets": {},
     "nuid": "b9e0ab4c-00b8-4ea7-a785-954b161f8c2e",
     "showTitle": false,
     "title": ""
    }
   },
   "outputs": [
    {
     "output_type": "display_data",
     "data": {
      "text/html": [
       "<style scoped>\n",
       "  .table-result-container {\n",
       "    max-height: 300px;\n",
       "    overflow: auto;\n",
       "  }\n",
       "  table, th, td {\n",
       "    border: 1px solid black;\n",
       "    border-collapse: collapse;\n",
       "  }\n",
       "  th, td {\n",
       "    padding: 5px;\n",
       "  }\n",
       "  th {\n",
       "    text-align: left;\n",
       "  }\n",
       "</style><div class='table-result-container'><table class='table-result'><thead style='background-color: white'><tr><th>Month</th><th>Total_Sales</th><th>Order_Count</th></tr></thead><tbody><tr><td>05</td><td>2.6226476749999948E7</td><td>36865</td></tr><tr><td>03</td><td>101683.85</td><td>150</td></tr><tr><td>06</td><td>2.3425809379999988E7</td><td>32986</td></tr><tr><td>04</td><td>2.8838708319999993E7</td><td>43029</td></tr></tbody></table></div>"
      ]
     },
     "metadata": {
      "application/vnd.databricks.v1+output": {
       "addedWidgets": {},
       "aggData": [],
       "aggError": "",
       "aggOverflow": false,
       "aggSchema": [],
       "aggSeriesLimitReached": false,
       "aggType": "",
       "arguments": {},
       "columnCustomDisplayInfos": {},
       "data": [
        [
         "05",
         2.6226476749999948E7,
         36865
        ],
        [
         "03",
         101683.85,
         150
        ],
        [
         "06",
         2.3425809379999988E7,
         32986
        ],
        [
         "04",
         2.8838708319999993E7,
         43029
        ]
       ],
       "datasetInfos": [],
       "dbfsResultPath": null,
       "isJsonSchema": true,
       "metadata": {},
       "overflow": false,
       "plotOptions": {
        "customPlotOptions": {},
        "displayType": "table",
        "pivotAggregation": null,
        "pivotColumns": null,
        "xColumns": null,
        "yColumns": null
       },
       "removedWidgets": [],
       "schema": [
        {
         "metadata": "{}",
         "name": "Month",
         "type": "\"string\""
        },
        {
         "metadata": "{}",
         "name": "Total_Sales",
         "type": "\"double\""
        },
        {
         "metadata": "{}",
         "name": "Order_Count",
         "type": "\"long\""
        }
       ],
       "type": "table"
      }
     },
     "output_type": "display_data"
    }
   ],
   "source": [
    "display(sales_trend)"
   ]
  },
  {
   "cell_type": "markdown",
   "metadata": {
    "application/vnd.databricks.v1+cell": {
     "cellMetadata": {},
     "inputWidgets": {},
     "nuid": "73af9f0d-b405-40cc-9409-3f76bcde3466",
     "showTitle": false,
     "title": ""
    }
   },
   "source": [
    "## Geographic analysis"
   ]
  },
  {
   "cell_type": "code",
   "execution_count": 0,
   "metadata": {
    "application/vnd.databricks.v1+cell": {
     "cellMetadata": {
      "byteLimit": 2048000,
      "rowLimit": 10000
     },
     "inputWidgets": {},
     "nuid": "dacd3a9f-2924-4f0d-9381-1c6556e1948e",
     "showTitle": false,
     "title": ""
    }
   },
   "outputs": [
    {
     "output_type": "display_data",
     "data": {
      "text/html": [
       "<style scoped>\n",
       "  .ansiout {\n",
       "    display: block;\n",
       "    unicode-bidi: embed;\n",
       "    white-space: pre-wrap;\n",
       "    word-wrap: break-word;\n",
       "    word-break: break-all;\n",
       "    font-family: \"Menlo\", \"Monaco\", \"Consolas\", \"Ubuntu Mono\", \"Source Code Pro\", monospace;\n",
       "    font-size: 13px;\n",
       "    color: #555;\n",
       "    margin-left: 4px;\n",
       "    line-height: 19px;\n",
       "  }\n",
       "</style>\n",
       "<div class=\"ansiout\">+--------------+--------------------+-----------+\n",
       "    ship-state|         Total_Sales|Order_Count|\n",
       "+--------------+--------------------+-----------+\n",
       "   MAHARASHTRA|1.3335534139999999E7|      19671|\n",
       "     KARNATAKA|       1.048111437E7|      15294|\n",
       "     TELANGANA|   6916615.649999999|       9759|\n",
       " UTTAR PRADESH|   6816642.080000002|       9394|\n",
       "    TAMIL NADU|          6515650.11|       9895|\n",
       "         DELHI|          4235215.97|       5996|\n",
       "        KERALA|          3830227.58|       5707|\n",
       "   WEST BENGAL|  3507880.4399999995|       5258|\n",
       "ANDHRA PRADESH|  3219831.7200000007|       4641|\n",
       "       HARYANA|  2882092.9899999998|       3935|\n",
       "+--------------+--------------------+-----------+\n",
       "only showing top 10 rows\n",
       "\n",
       "</div>"
      ]
     },
     "metadata": {
      "application/vnd.databricks.v1+output": {
       "addedWidgets": {},
       "arguments": {},
       "data": "<div class=\"ansiout\">+--------------+--------------------+-----------+\n|    ship-state|         Total_Sales|Order_Count|\n+--------------+--------------------+-----------+\n|   MAHARASHTRA|1.3335534139999999E7|      19671|\n|     KARNATAKA|       1.048111437E7|      15294|\n|     TELANGANA|   6916615.649999999|       9759|\n| UTTAR PRADESH|   6816642.080000002|       9394|\n|    TAMIL NADU|          6515650.11|       9895|\n|         DELHI|          4235215.97|       5996|\n|        KERALA|          3830227.58|       5707|\n|   WEST BENGAL|  3507880.4399999995|       5258|\n|ANDHRA PRADESH|  3219831.7200000007|       4641|\n|       HARYANA|  2882092.9899999998|       3935|\n+--------------+--------------------+-----------+\nonly showing top 10 rows\n\n</div>",
       "datasetInfos": [],
       "metadata": {},
       "removedWidgets": [],
       "type": "html"
      }
     },
     "output_type": "display_data"
    }
   ],
   "source": [
    "# Calculate sales and order volume by state\n",
    "regional_sales = sales_data_clean.groupBy(\"ship-state\")\\\n",
    "    .agg(\n",
    "        F.sum(\"Amount\").alias(\"Total_Sales\"),  # Rename'Total_Sales'\n",
    "        F.countDistinct(\"Order ID\").alias(\"Order_Count\")  # Rename'Order_Count'\n",
    "    )\\\n",
    "    .orderBy(F.desc(\"Total_Sales\"))  # sort by desc\n",
    "\n",
    "\n",
    "regional_sales.show(10)"
   ]
  },
  {
   "cell_type": "markdown",
   "metadata": {
    "application/vnd.databricks.v1+cell": {
     "cellMetadata": {},
     "inputWidgets": {},
     "nuid": "66380c33-6c4e-4a39-8017-2cb5b3ed7139",
     "showTitle": false,
     "title": ""
    }
   },
   "source": [
    "## Cross-platform product pricing strategy analysis"
   ]
  },
  {
   "cell_type": "code",
   "execution_count": 0,
   "metadata": {
    "application/vnd.databricks.v1+cell": {
     "cellMetadata": {
      "byteLimit": 2048000,
      "rowLimit": 10000
     },
     "inputWidgets": {},
     "nuid": "b0a0721f-e3ca-43fe-a55b-dce505943a52",
     "showTitle": false,
     "title": ""
    }
   },
   "outputs": [
    {
     "output_type": "display_data",
     "data": {
      "text/html": [
       "<style scoped>\n",
       "  .ansiout {\n",
       "    display: block;\n",
       "    unicode-bidi: embed;\n",
       "    white-space: pre-wrap;\n",
       "    word-wrap: break-word;\n",
       "    word-break: break-all;\n",
       "    font-family: \"Menlo\", \"Monaco\", \"Consolas\", \"Ubuntu Mono\", \"Source Code Pro\", monospace;\n",
       "    font-size: 13px;\n",
       "    color: #555;\n",
       "    margin-left: 4px;\n",
       "    line-height: 19px;\n",
       "  }\n",
       "</style>\n",
       "<div class=\"ansiout\"></div>"
      ]
     },
     "metadata": {
      "application/vnd.databricks.v1+output": {
       "addedWidgets": {},
       "arguments": {},
       "data": "<div class=\"ansiout\"></div>",
       "datasetInfos": [],
       "metadata": {},
       "removedWidgets": [],
       "type": "html"
      }
     },
     "output_type": "display_data"
    }
   ],
   "source": [
    "from pyspark.sql.functions import col, when, lit\n",
    "from pyspark.sql.types import FloatType\n",
    "\n",
    "# clean \n",
    "def clean_and_convert_to_float(df, columns):\n",
    "    for column_name in columns:\n",
    "        df = df.withColumn(column_name, when((col(column_name).isNull()) | (col(column_name) == \"Nill\"), lit(None)).otherwise(col(column_name).cast(FloatType())))\n",
    "    return df\n",
    "\n",
    "# \n",
    "relevant_columns = ['Sku', 'Style Id', 'Ajio MRP', 'Amazon MRP', 'Flipkart MRP', 'Myntra MRP', 'Paytm MRP', 'Snapdeal MRP']\n",
    "\n",
    "#\n",
    "may_df_clean = clean_and_convert_to_float(may_data, relevant_columns[2:])\n",
    "mar_df_clean = clean_and_convert_to_float(mar_data, relevant_columns[2:])\n"
   ]
  },
  {
   "cell_type": "code",
   "execution_count": 0,
   "metadata": {
    "application/vnd.databricks.v1+cell": {
     "cellMetadata": {
      "byteLimit": 2048000,
      "rowLimit": 10000
     },
     "inputWidgets": {},
     "nuid": "706644c7-6406-4e78-af85-1eecb30b42ae",
     "showTitle": false,
     "title": ""
    }
   },
   "outputs": [
    {
     "output_type": "display_data",
     "data": {
      "text/html": [
       "<style scoped>\n",
       "  .ansiout {\n",
       "    display: block;\n",
       "    unicode-bidi: embed;\n",
       "    white-space: pre-wrap;\n",
       "    word-wrap: break-word;\n",
       "    word-break: break-all;\n",
       "    font-family: \"Menlo\", \"Monaco\", \"Consolas\", \"Ubuntu Mono\", \"Source Code Pro\", monospace;\n",
       "    font-size: 13px;\n",
       "    color: #555;\n",
       "    margin-left: 4px;\n",
       "    line-height: 19px;\n",
       "  }\n",
       "</style>\n",
       "<div class=\"ansiout\"></div>"
      ]
     },
     "metadata": {
      "application/vnd.databricks.v1+output": {
       "addedWidgets": {},
       "arguments": {},
       "data": "<div class=\"ansiout\"></div>",
       "datasetInfos": [],
       "metadata": {},
       "removedWidgets": [],
       "type": "html"
      }
     },
     "output_type": "display_data"
    }
   ],
   "source": [
    "from pyspark.sql.functions import col, lit, avg\n",
    "\n",
    "# 首先，为了简化代码，我们定义一个函数来计算平均价格和价格变化\n",
    "def calculate_avg_price_changes(df1, df2, time1_label, time2_label, platforms):\n",
    "    # 计算每个平台在df1的平均价格\n",
    "    avg_prices_df1 = df1.groupBy().agg(*(avg(col(p)).alias(f\"{p}_{time1_label}\") for p in platforms))\n",
    "    \n",
    "    # 计算每个平台在df2的平均价格\n",
    "    avg_prices_df2 = df2.groupBy().agg(*(avg(col(p)).alias(f\"{p}_{time2_label}\") for p in platforms))\n",
    "    \n",
    "    # 由于这两个DataFrame都只有一行，我们可以直接进行横向连接（crossJoin）\n",
    "    combined_avg_prices = avg_prices_df1.crossJoin(avg_prices_df2)\n",
    "    \n",
    "    # 计算变化\n",
    "    for platform in platforms:\n",
    "        combined_avg_prices = combined_avg_prices.withColumn(\n",
    "            f\"Change_{platform}\", \n",
    "            col(f\"{platform}_{time1_label}\") - col(f\"{platform}_{time2_label}\")\n",
    "        )\n",
    "    \n",
    "    return combined_avg_prices\n",
    "\n",
    "# 定义平台列表\n",
    "platforms = [\"Ajio MRP\", \"Amazon MRP\", \"Flipkart MRP\", \"Myntra MRP\", \"Paytm MRP\", \"Snapdeal MRP\"]\n",
    "\n",
    "# 调用函数计算平均价格和价格变化\n",
    "avg_price_changes_df = calculate_avg_price_changes(may_df_clean, mar_df_clean, \"May2022\", \"PLMarch2021\", platforms)\n",
    "\n",
    "# 选择和重排列列以匹配期望的输出格式\n",
    "output_columns = []\n",
    "for platform in platforms:\n",
    "    output_columns.append(f\"{platform}_May2022\")\n",
    "    output_columns.append(f\"{platform}_PLMarch2021\")\n",
    "    output_columns.append(f\"Change_{platform}\")\n",
    "\n",
    "result_df = avg_price_changes_df.select(*output_columns)\n",
    "\n"
   ]
  },
  {
   "cell_type": "code",
   "execution_count": 0,
   "metadata": {
    "application/vnd.databricks.v1+cell": {
     "cellMetadata": {
      "byteLimit": 2048000,
      "rowLimit": 10000
     },
     "inputWidgets": {},
     "nuid": "42cf625d-0f95-48ad-9edf-99cd56d36d9e",
     "showTitle": false,
     "title": ""
    }
   },
   "outputs": [
    {
     "output_type": "display_data",
     "data": {
      "text/html": [
       "<style scoped>\n",
       "  .ansiout {\n",
       "    display: block;\n",
       "    unicode-bidi: embed;\n",
       "    white-space: pre-wrap;\n",
       "    word-wrap: break-word;\n",
       "    word-break: break-all;\n",
       "    font-family: \"Menlo\", \"Monaco\", \"Consolas\", \"Ubuntu Mono\", \"Source Code Pro\", monospace;\n",
       "    font-size: 13px;\n",
       "    color: #555;\n",
       "    margin-left: 4px;\n",
       "    line-height: 19px;\n",
       "  }\n",
       "</style>\n",
       "<div class=\"ansiout\">+--------+------------------+------------------+----------+\n",
       "Platform|       MRP_May2022|   MRP_PLMarch2021|Change_MRP|\n",
       "+--------+------------------+------------------+----------+\n",
       "    Ajio|2241.2640758021707|2241.2640758021707|       0.0|\n",
       "  Amazon| 2247.789211146332| 2247.789211146332|       0.0|\n",
       "Flipkart|2243.1202242940503|2243.1202242940503|       0.0|\n",
       "  Myntra|2232.5192070917683|2232.5192070917683|       0.0|\n",
       "   Paytm|2238.4891338068114|2238.4891338068114|       0.0|\n",
       "Snapdeal| 2239.726566134731| 2239.726566134731|       0.0|\n",
       "+--------+------------------+------------------+----------+\n",
       "\n",
       "</div>"
      ]
     },
     "metadata": {
      "application/vnd.databricks.v1+output": {
       "addedWidgets": {},
       "arguments": {},
       "data": "<div class=\"ansiout\">+--------+------------------+------------------+----------+\n|Platform|       MRP_May2022|   MRP_PLMarch2021|Change_MRP|\n+--------+------------------+------------------+----------+\n|    Ajio|2241.2640758021707|2241.2640758021707|       0.0|\n|  Amazon| 2247.789211146332| 2247.789211146332|       0.0|\n|Flipkart|2243.1202242940503|2243.1202242940503|       0.0|\n|  Myntra|2232.5192070917683|2232.5192070917683|       0.0|\n|   Paytm|2238.4891338068114|2238.4891338068114|       0.0|\n|Snapdeal| 2239.726566134731| 2239.726566134731|       0.0|\n+--------+------------------+------------------+----------+\n\n</div>",
       "datasetInfos": [],
       "metadata": {},
       "removedWidgets": [],
       "type": "html"
      }
     },
     "output_type": "display_data"
    }
   ],
   "source": [
    "from pyspark.sql import SparkSession\n",
    "from pyspark.sql.functions import lit, struct, col\n",
    "\n",
    "platforms = [\"Ajio\", \"Amazon\", \"Flipkart\", \"Myntra\", \"Paytm\", \"Snapdeal\"]\n",
    "\n",
    "# \n",
    "new_rows = []\n",
    "for platform in platforms:\n",
    "    new_rows.append((\n",
    "        platform, \n",
    "        result_df.select(f\"{platform} MRP_May2022\").collect()[0][0],\n",
    "        result_df.select(f\"{platform} MRP_PLMarch2021\").collect()[0][0],\n",
    "        result_df.select(f\"Change_{platform} MRP\").collect()[0][0]\n",
    "    ))\n",
    "\n",
    "new_df_schema = [\"Platform\", \"MRP_May2022\", \"MRP_PLMarch2021\", \"Change_MRP\"]\n",
    "platform_df = spark.createDataFrame(new_rows, schema=new_df_schema)\n",
    "\n",
    "platform_df.show()\n"
   ]
  },
  {
   "cell_type": "markdown",
   "metadata": {
    "application/vnd.databricks.v1+cell": {
     "cellMetadata": {},
     "inputWidgets": {},
     "nuid": "913a463b-8fc0-49eb-b398-65f79850102c",
     "showTitle": false,
     "title": ""
    }
   },
   "source": [
    "## SKU Analysis"
   ]
  },
  {
   "cell_type": "code",
   "execution_count": 0,
   "metadata": {
    "application/vnd.databricks.v1+cell": {
     "cellMetadata": {
      "byteLimit": 2048000,
      "rowLimit": 10000
     },
     "inputWidgets": {},
     "nuid": "050c7610-c8ce-4e69-b8e3-bc9f3a15b726",
     "showTitle": false,
     "title": ""
    }
   },
   "outputs": [
    {
     "output_type": "display_data",
     "data": {
      "text/html": [
       "<style scoped>\n",
       "  .ansiout {\n",
       "    display: block;\n",
       "    unicode-bidi: embed;\n",
       "    white-space: pre-wrap;\n",
       "    word-wrap: break-word;\n",
       "    word-break: break-all;\n",
       "    font-family: \"Menlo\", \"Monaco\", \"Consolas\", \"Ubuntu Mono\", \"Source Code Pro\", monospace;\n",
       "    font-size: 13px;\n",
       "    color: #555;\n",
       "    margin-left: 4px;\n",
       "    line-height: 19px;\n",
       "  }\n",
       "</style>\n",
       "<div class=\"ansiout\"></div>"
      ]
     },
     "metadata": {
      "application/vnd.databricks.v1+output": {
       "addedWidgets": {},
       "arguments": {},
       "data": "<div class=\"ansiout\"></div>",
       "datasetInfos": [],
       "metadata": {},
       "removedWidgets": [],
       "type": "html"
      }
     },
     "output_type": "display_data"
    }
   ],
   "source": [
    "from pyspark.sql.functions import avg, max, min, col\n",
    "\n",
    "# avg_stock_per_sku\n",
    "avg_stock_per_sku = sale_report_df.groupBy(\"SKU Code\").agg(avg(\"Stock\").alias(\"avg_stock\"))\n",
    "\n",
    "# stock_sku \n",
    "highest_stock_sku = avg_stock_per_sku.orderBy(col(\"avg_stock\").desc()).first()\n",
    "lowest_stock_sku = avg_stock_per_sku.orderBy(\"avg_stock\").first()\n",
    "\n",
    "# avg_stock_per_category\n",
    "avg_stock_per_category = sale_report_df.groupBy(\"Category\").agg(avg(\"Stock\").alias(\"avg_stock\"))\n",
    "\n",
    "highest_stock_sku_df = avg_stock_per_sku.orderBy(col(\"avg_stock\").desc()).limit(1).withColumn(\"Type\", lit(\"Highest\"))\n",
    "lowest_stock_sku_df = avg_stock_per_sku.orderBy(\"avg_stock\").limit(1).withColumn(\"Type\", lit(\"Lowest\"))\n",
    "\n",
    "# combine\n",
    "combined_sku_df = highest_stock_sku_df.union(lowest_stock_sku_df)\n",
    "\n",
    "# \n",
    "final_result_df = combined_sku_df.withColumnRenamed(\"SKU Code\", \"SKU_Code\").withColumnRenamed(\"avg_stock\", \"Average_Stock\")\n",
    "\n"
   ]
  },
  {
   "cell_type": "code",
   "execution_count": 0,
   "metadata": {
    "application/vnd.databricks.v1+cell": {
     "cellMetadata": {
      "byteLimit": 2048000,
      "rowLimit": 10000
     },
     "inputWidgets": {},
     "nuid": "b52ef8c9-6d07-4fc1-98c9-50e183d42e5c",
     "showTitle": false,
     "title": ""
    }
   },
   "outputs": [
    {
     "output_type": "display_data",
     "data": {
      "text/html": [
       "<style scoped>\n",
       "  .table-result-container {\n",
       "    max-height: 300px;\n",
       "    overflow: auto;\n",
       "  }\n",
       "  table, th, td {\n",
       "    border: 1px solid black;\n",
       "    border-collapse: collapse;\n",
       "  }\n",
       "  th, td {\n",
       "    padding: 5px;\n",
       "  }\n",
       "  th {\n",
       "    text-align: left;\n",
       "  }\n",
       "</style><div class='table-result-container'><table class='table-result'><thead style='background-color: white'><tr><th>Category</th><th>avg_stock</th></tr></thead><tbody><tr><td>NIGHT WEAR</td><td>15.152073732718893</td></tr><tr><td>KURTI</td><td>57.32142857142857</td></tr><tr><td>KURTA</td><td>30.686795491143318</td></tr><tr><td>null</td><td>0.0</td></tr><tr><td>PALAZZO</td><td>10.582417582417582</td></tr><tr><td>LEHENGA CHOLI</td><td>21.02857142857143</td></tr><tr><td>JUMPSUIT</td><td>4.714285714285714</td></tr><tr><td>SET</td><td>23.46952380952381</td></tr><tr><td>PANT</td><td>37.75824175824176</td></tr><tr><td>CARDIGAN</td><td>3.411764705882353</td></tr><tr><td>DRESS</td><td>16.678571428571427</td></tr><tr><td>SKIRT</td><td>33.65</td></tr><tr><td>AN : LEGGINGS</td><td>5.458015267175573</td></tr><tr><td>TUNIC</td><td>19.266233766233768</td></tr><tr><td>KURTA SET</td><td>29.83979974968711</td></tr><tr><td>SAREE</td><td>18.891156462585034</td></tr><tr><td>BLOUSE</td><td>32.912863070539416</td></tr><tr><td>CROP TOP</td><td>9.642857142857142</td></tr><tr><td>CROP TOP WITH PLAZZO</td><td>88.14285714285714</td></tr><tr><td>SHARARA</td><td>29.75</td></tr><tr><td>BOTTOM</td><td>2.1578947368421053</td></tr><tr><td>TOP</td><td>19.201156069364163</td></tr></tbody></table></div>"
      ]
     },
     "metadata": {
      "application/vnd.databricks.v1+output": {
       "addedWidgets": {},
       "aggData": [],
       "aggError": "",
       "aggOverflow": false,
       "aggSchema": [],
       "aggSeriesLimitReached": false,
       "aggType": "",
       "arguments": {},
       "columnCustomDisplayInfos": {},
       "data": [
        [
         "NIGHT WEAR",
         15.152073732718893
        ],
        [
         "KURTI",
         57.32142857142857
        ],
        [
         "KURTA",
         30.686795491143318
        ],
        [
         null,
         0.0
        ],
        [
         "PALAZZO",
         10.582417582417582
        ],
        [
         "LEHENGA CHOLI",
         21.02857142857143
        ],
        [
         "JUMPSUIT",
         4.714285714285714
        ],
        [
         "SET",
         23.46952380952381
        ],
        [
         "PANT",
         37.75824175824176
        ],
        [
         "CARDIGAN",
         3.411764705882353
        ],
        [
         "DRESS",
         16.678571428571427
        ],
        [
         "SKIRT",
         33.65
        ],
        [
         "AN : LEGGINGS",
         5.458015267175573
        ],
        [
         "TUNIC",
         19.266233766233768
        ],
        [
         "KURTA SET",
         29.83979974968711
        ],
        [
         "SAREE",
         18.891156462585034
        ],
        [
         "BLOUSE",
         32.912863070539416
        ],
        [
         "CROP TOP",
         9.642857142857142
        ],
        [
         "CROP TOP WITH PLAZZO",
         88.14285714285714
        ],
        [
         "SHARARA",
         29.75
        ],
        [
         "BOTTOM",
         2.1578947368421053
        ],
        [
         "TOP",
         19.201156069364163
        ]
       ],
       "datasetInfos": [],
       "dbfsResultPath": null,
       "isJsonSchema": true,
       "metadata": {},
       "overflow": false,
       "plotOptions": {
        "customPlotOptions": {},
        "displayType": "table",
        "pivotAggregation": null,
        "pivotColumns": null,
        "xColumns": null,
        "yColumns": null
       },
       "removedWidgets": [],
       "schema": [
        {
         "metadata": "{}",
         "name": "Category",
         "type": "\"string\""
        },
        {
         "metadata": "{}",
         "name": "avg_stock",
         "type": "\"double\""
        }
       ],
       "type": "table"
      }
     },
     "output_type": "display_data"
    }
   ],
   "source": [
    "display(avg_stock_per_category)"
   ]
  },
  {
   "cell_type": "code",
   "execution_count": 0,
   "metadata": {
    "application/vnd.databricks.v1+cell": {
     "cellMetadata": {
      "byteLimit": 2048000,
      "rowLimit": 10000
     },
     "inputWidgets": {},
     "nuid": "5cabcdbe-9598-42ab-b89d-adab9765f044",
     "showTitle": false,
     "title": ""
    }
   },
   "outputs": [
    {
     "output_type": "display_data",
     "data": {
      "text/html": [
       "<style scoped>\n",
       "  .table-result-container {\n",
       "    max-height: 300px;\n",
       "    overflow: auto;\n",
       "  }\n",
       "  table, th, td {\n",
       "    border: 1px solid black;\n",
       "    border-collapse: collapse;\n",
       "  }\n",
       "  th, td {\n",
       "    padding: 5px;\n",
       "  }\n",
       "  th {\n",
       "    text-align: left;\n",
       "  }\n",
       "</style><div class='table-result-container'><table class='table-result'><thead style='background-color: white'><tr><th>SKU_Code</th><th>Average_Stock</th><th>Type</th></tr></thead><tbody><tr><td>JNE3405-KR-XXL</td><td>1234.0</td><td>Highest</td></tr><tr><td>JNE3401-KR-XXL</td><td>0.0</td><td>Lowest</td></tr></tbody></table></div>"
      ]
     },
     "metadata": {
      "application/vnd.databricks.v1+output": {
       "addedWidgets": {},
       "aggData": [],
       "aggError": "",
       "aggOverflow": false,
       "aggSchema": [],
       "aggSeriesLimitReached": false,
       "aggType": "",
       "arguments": {},
       "columnCustomDisplayInfos": {},
       "data": [
        [
         "JNE3405-KR-XXL",
         1234.0,
         "Highest"
        ],
        [
         "JNE3401-KR-XXL",
         0.0,
         "Lowest"
        ]
       ],
       "datasetInfos": [],
       "dbfsResultPath": null,
       "isJsonSchema": true,
       "metadata": {},
       "overflow": false,
       "plotOptions": {
        "customPlotOptions": {},
        "displayType": "table",
        "pivotAggregation": null,
        "pivotColumns": null,
        "xColumns": null,
        "yColumns": null
       },
       "removedWidgets": [],
       "schema": [
        {
         "metadata": "{}",
         "name": "SKU_Code",
         "type": "\"string\""
        },
        {
         "metadata": "{}",
         "name": "Average_Stock",
         "type": "\"double\""
        },
        {
         "metadata": "{}",
         "name": "Type",
         "type": "\"string\""
        }
       ],
       "type": "table"
      }
     },
     "output_type": "display_data"
    }
   ],
   "source": [
    "display(final_result_df)"
   ]
  },
  {
   "cell_type": "markdown",
   "metadata": {
    "application/vnd.databricks.v1+cell": {
     "cellMetadata": {},
     "inputWidgets": {},
     "nuid": "51b40163-58d4-4ac8-8c81-0b9411242309",
     "showTitle": false,
     "title": ""
    }
   },
   "source": [
    "## Cost and Profit"
   ]
  },
  {
   "cell_type": "code",
   "execution_count": 0,
   "metadata": {
    "application/vnd.databricks.v1+cell": {
     "cellMetadata": {
      "byteLimit": 2048000,
      "rowLimit": 10000
     },
     "inputWidgets": {},
     "nuid": "4534a611-2ecf-481b-9cc7-b82d2b510429",
     "showTitle": false,
     "title": ""
    }
   },
   "outputs": [
    {
     "output_type": "display_data",
     "data": {
      "text/html": [
       "<style scoped>\n",
       "  .ansiout {\n",
       "    display: block;\n",
       "    unicode-bidi: embed;\n",
       "    white-space: pre-wrap;\n",
       "    word-wrap: break-word;\n",
       "    word-break: break-all;\n",
       "    font-family: \"Menlo\", \"Monaco\", \"Consolas\", \"Ubuntu Mono\", \"Source Code Pro\", monospace;\n",
       "    font-size: 13px;\n",
       "    color: #555;\n",
       "    margin-left: 4px;\n",
       "    line-height: 19px;\n",
       "  }\n",
       "</style>\n",
       "<div class=\"ansiout\"></div>"
      ]
     },
     "metadata": {
      "application/vnd.databricks.v1+output": {
       "addedWidgets": {},
       "arguments": {},
       "data": "<div class=\"ansiout\"></div>",
       "datasetInfos": [],
       "metadata": {},
       "removedWidgets": [],
       "type": "html"
      }
     },
     "output_type": "display_data"
    }
   ],
   "source": [
    "from pyspark.sql.functions import sum as _sum, avg, col\n",
    "from pyspark.sql.types import DoubleType\n",
    "\n",
    "expense_df = expense_df.withColumnRenamed('Recived Amount','Date')\\\n",
    "                                     .withColumnRenamed('Unnamed: 1','Received Amount')\\\n",
    "                                     .withColumnRenamed('Expance','Expense Category')\\\n",
    "                                     .withColumnRenamed('Unnamed: 3','Expense Amount')\n",
    "\n",
    "# tranform \"Expense Amount\" type.Double\n",
    "expense_df = expense_df.withColumn(\"Expense Amount\", when(col(\"Expense Amount\").cast(DoubleType()).isNull(), 0)\n",
    "                                              .otherwise(col(\"Expense Amount\").cast(DoubleType())))\n",
    "\n",
    "# total expense\n",
    "total_expense = expense_df.agg(_sum(\"Expense Amount\").alias(\"Total Expense\")).collect()[0][\"Total Expense\"]\n",
    "\n",
    "# clean “P & L March 2021.csv”\n",
    "mar_df = mar_data.withColumn(\"Final MRP Old\", when(col(\"Final MRP Old\").cast(DoubleType()).isNull(), 0)\n",
    "                                                .otherwise(col(\"Final MRP Old\").cast(DoubleType())))\n",
    "\n",
    "# total_revenue\n",
    "total_revenue = mar_df.agg(_sum(\"Final MRP Old\").alias(\"Total Revenue\")).collect()[0][\"Total Revenue\"]\n",
    "\n",
    "# profit\n",
    "profit = total_revenue - total_expense\n",
    "\n",
    "# revenue_per_category\n",
    "revenue_per_category = mar_df.groupBy(\"Category\").agg(_sum(\"Final MRP Old\").alias(\"Revenue\")).orderBy(\"Category\")\n",
    "\n",
    "# expense_result_df\n",
    "expense_result_df = spark.createDataFrame([\n",
    "    (\"Total Expense\", total_expense),\n",
    "    (\"Total Revenue\", total_revenue),\n",
    "    (\"Profit\", profit)\n",
    "], [\"Metric\", \"Value\"])\n",
    "\n"
   ]
  },
  {
   "cell_type": "code",
   "execution_count": 0,
   "metadata": {
    "application/vnd.databricks.v1+cell": {
     "cellMetadata": {
      "byteLimit": 2048000,
      "rowLimit": 10000
     },
     "inputWidgets": {},
     "nuid": "1e1eb597-0d82-4a3e-b5a6-5fd4d36016b0",
     "showTitle": false,
     "title": ""
    }
   },
   "outputs": [
    {
     "output_type": "display_data",
     "data": {
      "text/html": [
       "<style scoped>\n",
       "  .table-result-container {\n",
       "    max-height: 300px;\n",
       "    overflow: auto;\n",
       "  }\n",
       "  table, th, td {\n",
       "    border: 1px solid black;\n",
       "    border-collapse: collapse;\n",
       "  }\n",
       "  th, td {\n",
       "    padding: 5px;\n",
       "  }\n",
       "  th {\n",
       "    text-align: left;\n",
       "  }\n",
       "</style><div class='table-result-container'><table class='table-result'><thead style='background-color: white'><tr><th>Category</th><th>Revenue</th></tr></thead><tbody><tr><td>Gown</td><td>100840.0</td></tr><tr><td>Kurta</td><td>1593139.0</td></tr><tr><td>Kurta Set</td><td>943888.0</td></tr><tr><td>Nill</td><td>174441.45</td></tr><tr><td>Tops</td><td>77775.0</td></tr></tbody></table></div>"
      ]
     },
     "metadata": {
      "application/vnd.databricks.v1+output": {
       "addedWidgets": {},
       "aggData": [],
       "aggError": "",
       "aggOverflow": false,
       "aggSchema": [],
       "aggSeriesLimitReached": false,
       "aggType": "",
       "arguments": {},
       "columnCustomDisplayInfos": {},
       "data": [
        [
         "Gown",
         100840.0
        ],
        [
         "Kurta",
         1593139.0
        ],
        [
         "Kurta Set",
         943888.0
        ],
        [
         "Nill",
         174441.45
        ],
        [
         "Tops",
         77775.0
        ]
       ],
       "datasetInfos": [],
       "dbfsResultPath": null,
       "isJsonSchema": true,
       "metadata": {},
       "overflow": false,
       "plotOptions": {
        "customPlotOptions": {},
        "displayType": "table",
        "pivotAggregation": null,
        "pivotColumns": null,
        "xColumns": null,
        "yColumns": null
       },
       "removedWidgets": [],
       "schema": [
        {
         "metadata": "{}",
         "name": "Category",
         "type": "\"string\""
        },
        {
         "metadata": "{}",
         "name": "Revenue",
         "type": "\"double\""
        }
       ],
       "type": "table"
      }
     },
     "output_type": "display_data"
    }
   ],
   "source": [
    "display(revenue_per_category)"
   ]
  },
  {
   "cell_type": "code",
   "execution_count": 0,
   "metadata": {
    "application/vnd.databricks.v1+cell": {
     "cellMetadata": {
      "byteLimit": 2048000,
      "rowLimit": 10000
     },
     "inputWidgets": {},
     "nuid": "5394123f-f463-43e2-8399-6902f19f2362",
     "showTitle": false,
     "title": ""
    }
   },
   "outputs": [
    {
     "output_type": "display_data",
     "data": {
      "text/html": [
       "<style scoped>\n",
       "  .table-result-container {\n",
       "    max-height: 300px;\n",
       "    overflow: auto;\n",
       "  }\n",
       "  table, th, td {\n",
       "    border: 1px solid black;\n",
       "    border-collapse: collapse;\n",
       "  }\n",
       "  th, td {\n",
       "    padding: 5px;\n",
       "  }\n",
       "  th {\n",
       "    text-align: left;\n",
       "  }\n",
       "</style><div class='table-result-container'><table class='table-result'><thead style='background-color: white'><tr><th>Metric</th><th>Value</th></tr></thead><tbody><tr><td>Total Expense</td><td>18095.0</td></tr><tr><td>Total Revenue</td><td>2890083.45</td></tr><tr><td>Profit</td><td>2871988.45</td></tr></tbody></table></div>"
      ]
     },
     "metadata": {
      "application/vnd.databricks.v1+output": {
       "addedWidgets": {},
       "aggData": [],
       "aggError": "",
       "aggOverflow": false,
       "aggSchema": [],
       "aggSeriesLimitReached": false,
       "aggType": "",
       "arguments": {},
       "columnCustomDisplayInfos": {},
       "data": [
        [
         "Total Expense",
         18095.0
        ],
        [
         "Total Revenue",
         2890083.45
        ],
        [
         "Profit",
         2871988.45
        ]
       ],
       "datasetInfos": [],
       "dbfsResultPath": null,
       "isJsonSchema": true,
       "metadata": {},
       "overflow": false,
       "plotOptions": {
        "customPlotOptions": {},
        "displayType": "table",
        "pivotAggregation": null,
        "pivotColumns": null,
        "xColumns": null,
        "yColumns": null
       },
       "removedWidgets": [],
       "schema": [
        {
         "metadata": "{}",
         "name": "Metric",
         "type": "\"string\""
        },
        {
         "metadata": "{}",
         "name": "Value",
         "type": "\"double\""
        }
       ],
       "type": "table"
      }
     },
     "output_type": "display_data"
    }
   ],
   "source": [
    "display(expense_result_df )"
   ]
  },
  {
   "cell_type": "markdown",
   "metadata": {
    "application/vnd.databricks.v1+cell": {
     "cellMetadata": {},
     "inputWidgets": {},
     "nuid": "1f577be8-03f6-4082-a883-0db8269cd50c",
     "showTitle": false,
     "title": ""
    }
   },
   "source": [
    "## Writing Output tables to Data Lake Gen-2 in Parquet Format"
   ]
  },
  {
   "cell_type": "code",
   "execution_count": 0,
   "metadata": {
    "application/vnd.databricks.v1+cell": {
     "cellMetadata": {
      "byteLimit": 2048000,
      "rowLimit": 10000
     },
     "inputWidgets": {},
     "nuid": "bcbfb7a4-c098-4b3d-9c64-a71554bf7938",
     "showTitle": false,
     "title": ""
    }
   },
   "outputs": [
    {
     "output_type": "display_data",
     "data": {
      "text/html": [
       "<style scoped>\n",
       "  .ansiout {\n",
       "    display: block;\n",
       "    unicode-bidi: embed;\n",
       "    white-space: pre-wrap;\n",
       "    word-wrap: break-word;\n",
       "    word-break: break-all;\n",
       "    font-family: \"Menlo\", \"Monaco\", \"Consolas\", \"Ubuntu Mono\", \"Source Code Pro\", monospace;\n",
       "    font-size: 13px;\n",
       "    color: #555;\n",
       "    margin-left: 4px;\n",
       "    line-height: 19px;\n",
       "  }\n",
       "</style>\n",
       "<div class=\"ansiout\"></div>"
      ]
     },
     "metadata": {
      "application/vnd.databricks.v1+output": {
       "addedWidgets": {},
       "arguments": {},
       "data": "<div class=\"ansiout\"></div>",
       "datasetInfos": [],
       "metadata": {},
       "removedWidgets": [],
       "type": "html"
      }
     },
     "output_type": "display_data"
    }
   ],
   "source": [
    "adls_endpoint = \"abfss://inputgen2@salesadls.dfs.core.windows.net/\"\n",
    "output_data_path = adls_endpoint + 'analysis_output/'\n",
    "\n",
    "sales_analysis_path = output_data_path + 'sales_analysis/'\n",
    "regional_analysis_path = output_data_path + 'regional_analysis/'\n",
    "platform_analysis_path = output_data_path + 'platform_analysis/'\n",
    "stock_analysis_path = output_data_path + 'stock_analysis/'\n",
    "sku_analysis_path = output_data_path + 'sku_analysis/'\n",
    "revenue_analysis_path = output_data_path + 'revenue_analysis/'\n",
    "cost_profit_path = output_data_path + 'cost_profit_analysis/'"
   ]
  },
  {
   "cell_type": "code",
   "execution_count": 0,
   "metadata": {
    "application/vnd.databricks.v1+cell": {
     "cellMetadata": {
      "byteLimit": 2048000,
      "rowLimit": 10000
     },
     "inputWidgets": {},
     "nuid": "b92bab3b-64b9-4fb6-bf81-a10eceffa8eb",
     "showTitle": false,
     "title": ""
    }
   },
   "outputs": [
    {
     "output_type": "display_data",
     "data": {
      "text/html": [
       "<style scoped>\n",
       "  .ansiout {\n",
       "    display: block;\n",
       "    unicode-bidi: embed;\n",
       "    white-space: pre-wrap;\n",
       "    word-wrap: break-word;\n",
       "    word-break: break-all;\n",
       "    font-family: \"Menlo\", \"Monaco\", \"Consolas\", \"Ubuntu Mono\", \"Source Code Pro\", monospace;\n",
       "    font-size: 13px;\n",
       "    color: #555;\n",
       "    margin-left: 4px;\n",
       "    line-height: 19px;\n",
       "  }\n",
       "</style>\n",
       "<div class=\"ansiout\">Test mode, not storing data.\n",
       "</div>"
      ]
     },
     "metadata": {
      "application/vnd.databricks.v1+output": {
       "addedWidgets": {},
       "arguments": {},
       "data": "<div class=\"ansiout\">Test mode, not storing data.\n</div>",
       "datasetInfos": [],
       "metadata": {},
       "removedWidgets": [],
       "type": "html"
      }
     },
     "output_type": "display_data"
    }
   ],
   "source": [
    "dbutils.widgets.text(\"run_mode\", \"test\", \"Run Mode\")\n",
    "\n",
    "run_mode = dbutils.widgets.get(\"run_mode\")\n",
    "\n",
    "if run_mode == \"production\":\n",
    "    # 仅当run_mode为\"production\"时，才执行数据存储操作\n",
    "    sales_trend.write.mode(\"overwrite\").parquet(sales_analysis_path)\n",
    "    regional_sales.write.mode(\"overwrite\").parquet(regional_analysis_path)\n",
    "    platform_df.write.mode(\"overwrite\").parquet(platform_analysis_path)\n",
    "    avg_stock_per_category.write.mode(\"overwrite\").parquet(stock_analysis_path)\n",
    "    final_result_df.write.mode(\"overwrite\").parquet(sku_analysis_path)\n",
    "    revenue_per_category.write.mode(\"overwrite\").parquet(revenue_analysis_path)\n",
    "    expense_result_df.write.mode(\"overwrite\").parquet(cost_profit_path)\n",
    "else:\n",
    "    # 如果是\"test\"模式，可以打印消息或执行其他非存储操作\n",
    "    print(\"Test mode, not storing data.\")\n"
   ]
  }
 ],
 "metadata": {
  "application/vnd.databricks.v1+notebook": {
   "dashboards": [],
   "language": "python",
   "notebookMetadata": {
    "pythonIndentUnit": 4
   },
   "notebookName": "SALES_ANALYSIS",
   "widgets": {
    "run_mode": {
     "currentValue": "test",
     "nuid": "82b9f454-c9f5-4d50-8e44-26ed26d8d111",
     "widgetInfo": {
      "widgetType": "text",
      "defaultValue": "test",
      "label": "Run Mode",
      "name": "run_mode",
      "options": {
       "widgetType": "text",
       "autoCreated": null,
       "validationRegex": null
      }
     }
    }
   }
  }
 },
 "nbformat": 4,
 "nbformat_minor": 0
}
